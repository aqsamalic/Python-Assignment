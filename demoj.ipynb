{
 "cells": [
  {
   "cell_type": "markdown",
   "metadata": {},
   "source": [
    "Data type"
   ]
  },
  {
   "cell_type": "code",
   "execution_count": 9,
   "metadata": {},
   "outputs": [
    {
     "name": "stdout",
     "output_type": "stream",
     "text": [
      "aqsa\n",
      "AQSA\n",
      "aqsa ramzan\n"
     ]
    }
   ],
   "source": [
    "name:str=\"aqsa\"\n",
    "print(name)\n",
    "print(name.upper())\n",
    "\n",
    "N1:str=\"aqsa\"\n",
    "N2:str=\"ramzan\"\n",
    "cname:str=f\"{N1} {N2}\"\n",
    "print(cname)"
   ]
  },
  {
   "cell_type": "code",
   "execution_count": 10,
   "metadata": {},
   "outputs": [
    {
     "name": "stdout",
     "output_type": "stream",
     "text": [
      "hello \n",
      "aqsa\n",
      "hehhesdbcjiv 'nlshhfsffo lnergienfhefmsncd berhfhe\n"
     ]
    }
   ],
   "source": [
    "print(\"hello \\naqsa\")\n",
    "\n",
    "a='hehhesdbcjiv \\'nlshhfsffo'\n",
    "b='lnergienfhefmsncd \\\n",
    "berhfhe'\n",
    "print(a,b)"
   ]
  },
  {
   "cell_type": "markdown",
   "metadata": {},
   "source": [
    "format() method"
   ]
  },
  {
   "cell_type": "code",
   "execution_count": 11,
   "metadata": {},
   "outputs": [
    {
     "name": "stdout",
     "output_type": "stream",
     "text": [
      "im aqsa , im 22 yesr old\n"
     ]
    }
   ],
   "source": [
    "format=\"im {} , im {} yesr old\".format(\"aqsa\",22)\n",
    "print(format)"
   ]
  },
  {
   "cell_type": "markdown",
   "metadata": {},
   "source": [
    "dictionary format vname={key:value}"
   ]
  },
  {
   "cell_type": "code",
   "execution_count": 12,
   "metadata": {},
   "outputs": [
    {
     "name": "stdout",
     "output_type": "stream",
     "text": [
      "{'name': 'aqsa', 'age': 20, 'gender': 'female'}\n"
     ]
    }
   ],
   "source": [
    "std_data={\n",
    "    \"name\":\"aqsa\",\n",
    "    \"age\": 20,\n",
    "    \"gender\":\"female\",\n",
    "}\n",
    "print(std_data)"
   ]
  },
  {
   "cell_type": "markdown",
   "metadata": {},
   "source": [
    "enumrate function()"
   ]
  },
  {
   "cell_type": "code",
   "execution_count": 13,
   "metadata": {},
   "outputs": [
    {
     "name": "stdout",
     "output_type": "stream",
     "text": [
      "[(5, 'a'), (6, 'b'), (7, 'c'), (8, 'd')]\n"
     ]
    }
   ],
   "source": [
    "a=[\"a\",\"b\",\"c\",\"d\"]\n",
    "b=enumerate(a,5)\n",
    "print(list(b))"
   ]
  }
 ],
 "metadata": {
  "kernelspec": {
   "display_name": "base",
   "language": "python",
   "name": "python3"
  },
  "language_info": {
   "codemirror_mode": {
    "name": "ipython",
    "version": 3
   },
   "file_extension": ".py",
   "mimetype": "text/x-python",
   "name": "python",
   "nbconvert_exporter": "python",
   "pygments_lexer": "ipython3",
   "version": "3.12.4"
  }
 },
 "nbformat": 4,
 "nbformat_minor": 2
}
